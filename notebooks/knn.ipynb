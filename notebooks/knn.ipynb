{
 "cells": [
  {
   "cell_type": "markdown",
   "metadata": {},
   "source": [
    "# Sentiment Analysis con KNN\n",
    "## Clasificador en C++ 💪💪\n",
    "Vamos a probar a nuestro bichito\n"
   ]
  },
  {
   "cell_type": "markdown",
   "metadata": {},
   "source": [
    "Definir los path al ejecutable de python 3.6 y sus librerías,\n",
    "de acuerdo al virtual env que estén corriendo."
   ]
  },
  {
   "cell_type": "code",
   "execution_count": 2,
   "metadata": {},
   "outputs": [
    {
     "name": "stdout",
     "output_type": "stream",
     "text": [
      "mkdir: build: File exists\n",
      "-- The C compiler identification is AppleClang 10.0.0.10001145\n",
      "-- The CXX compiler identification is AppleClang 10.0.0.10001145\n",
      "-- Check for working C compiler: /Applications/Xcode.app/Contents/Developer/Toolchains/XcodeDefault.xctoolchain/usr/bin/cc\n",
      "-- Check for working C compiler: /Applications/Xcode.app/Contents/Developer/Toolchains/XcodeDefault.xctoolchain/usr/bin/cc -- works\n",
      "-- Detecting C compiler ABI info\n",
      "-- Detecting C compiler ABI info - done\n",
      "-- Detecting C compile features\n",
      "-- Detecting C compile features - done\n",
      "-- Check for working CXX compiler: /Applications/Xcode.app/Contents/Developer/Toolchains/XcodeDefault.xctoolchain/usr/bin/c++\n",
      "-- Check for working CXX compiler: /Applications/Xcode.app/Contents/Developer/Toolchains/XcodeDefault.xctoolchain/usr/bin/c++ -- works\n",
      "-- Detecting CXX compiler ABI info\n",
      "-- Detecting CXX compiler ABI info - done\n",
      "-- Detecting CXX compile features\n",
      "-- Detecting CXX compile features - done\n",
      "Release mode\n",
      "-- Found PythonInterp: /anaconda3/bin/python (found version \"3.7.3\") \n",
      "-- Found PythonLibs: /anaconda3/lib/libpython3.7m.dylib\n",
      "-- pybind11 v2.3.dev0\n",
      "-- Performing Test HAS_FLTO\n",
      "-- Performing Test HAS_FLTO - Success\n",
      "-- LTO enabled\n",
      "CMAKE_INSTALL_PREFIX=/Users/vpomsztein/Documents/PrivateRepositories/SentimentAnalysisMetNum\n",
      "-- Configuring done\n",
      "-- Generating done\n",
      "-- Build files have been written to: /Users/vpomsztein/Documents/PrivateRepositories/SentimentAnalysisMetNum/build\n",
      "\u001b[35m\u001b[1mScanning dependencies of target sentiment\u001b[0m\n",
      "[ 20%] \u001b[32mBuilding CXX object CMakeFiles/sentiment.dir/src/sentiment.cpp.o\u001b[0m\n",
      "[ 40%] \u001b[32mBuilding CXX object CMakeFiles/sentiment.dir/src/knn.cpp.o\u001b[0m\n",
      "[ 60%] \u001b[32mBuilding CXX object CMakeFiles/sentiment.dir/src/pca.cpp.o\u001b[0m\n",
      "[ 80%] \u001b[32mBuilding CXX object CMakeFiles/sentiment.dir/src/eigen.cpp.o\u001b[0m\n",
      "[100%] \u001b[32m\u001b[1mLinking CXX shared module sentiment.cpython-37m-darwin.so\u001b[0m\n",
      "[100%] Built target sentiment\n",
      "\u001b[36mInstall the project...\u001b[0m\n",
      "-- Install configuration: \"Release\"\n",
      "-- Installing: /Users/vpomsztein/Documents/PrivateRepositories/SentimentAnalysisMetNum/notebooks/sentiment.cpython-37m-darwin.so\n"
     ]
    }
   ],
   "source": [
    "!cd .. && git submodule init\n",
    "!cd .. && git submodule update\n",
    "!cd .. && mkdir build\n",
    "!cd ../build/ && rm -rf *\n",
    "!cd ../build && cmake \\\n",
    "  -DPYTHON_EXECUTABLE=\"$(which python)\" \\\n",
    "  -DCMAKE_BUILD_TYPE=Release ..\n",
    "!cd ../build && make install"
   ]
  },
  {
   "cell_type": "code",
   "execution_count": 3,
   "metadata": {},
   "outputs": [
    {
     "name": "stdout",
     "output_type": "stream",
     "text": [
      "/Users/vpomsztein/Documents/PrivateRepositories/SentimentAnalysisMetNum/notebooks\n",
      "Python 3.7.3\n"
     ]
    }
   ],
   "source": [
    "# Verifico la correcta instalación. Si no falla el import está OK\n",
    "!pwd\n",
    "!python --version\n",
    "import sentiment\n"
   ]
  },
  {
   "cell_type": "code",
   "execution_count": 4,
   "metadata": {},
   "outputs": [
    {
     "name": "stdout",
     "output_type": "stream",
     "text": [
      "x ./._imdb_small.csv\n",
      "x imdb_small.csv\n",
      "Cantidad de documentos: 12500\n"
     ]
    }
   ],
   "source": [
    "%load_ext autoreload\n",
    "%autoreload 2\n",
    "import pandas as pd\n",
    "\n",
    "!cd ../data && tar -xvf *.tgz\n",
    "\n",
    "df = pd.read_csv(\"../data/imdb_small.csv\", index_col=0)\n",
    "\n",
    "print(\"Cantidad de documentos: {}\".format(df.shape[0]))"
   ]
  },
  {
   "cell_type": "code",
   "execution_count": 5,
   "metadata": {},
   "outputs": [
    {
     "data": {
      "text/html": [
       "<div>\n",
       "<style scoped>\n",
       "    .dataframe tbody tr th:only-of-type {\n",
       "        vertical-align: middle;\n",
       "    }\n",
       "\n",
       "    .dataframe tbody tr th {\n",
       "        vertical-align: top;\n",
       "    }\n",
       "\n",
       "    .dataframe thead th {\n",
       "        text-align: right;\n",
       "    }\n",
       "</style>\n",
       "<table border=\"1\" class=\"dataframe\">\n",
       "  <thead>\n",
       "    <tr style=\"text-align: right;\">\n",
       "      <th></th>\n",
       "      <th>type</th>\n",
       "      <th>review</th>\n",
       "      <th>label</th>\n",
       "      <th>file</th>\n",
       "    </tr>\n",
       "  </thead>\n",
       "  <tbody>\n",
       "    <tr>\n",
       "      <th>count</th>\n",
       "      <td>12500</td>\n",
       "      <td>12500</td>\n",
       "      <td>12500</td>\n",
       "      <td>12500</td>\n",
       "    </tr>\n",
       "    <tr>\n",
       "      <th>unique</th>\n",
       "      <td>2</td>\n",
       "      <td>12469</td>\n",
       "      <td>2</td>\n",
       "      <td>12085</td>\n",
       "    </tr>\n",
       "    <tr>\n",
       "      <th>top</th>\n",
       "      <td>test</td>\n",
       "      <td>This movie was physically painful to sit throu...</td>\n",
       "      <td>neg</td>\n",
       "      <td>5417_10.txt</td>\n",
       "    </tr>\n",
       "    <tr>\n",
       "      <th>freq</th>\n",
       "      <td>6275</td>\n",
       "      <td>2</td>\n",
       "      <td>6322</td>\n",
       "      <td>2</td>\n",
       "    </tr>\n",
       "  </tbody>\n",
       "</table>\n",
       "</div>"
      ],
      "text/plain": [
       "         type                                             review  label  \\\n",
       "count   12500                                              12500  12500   \n",
       "unique      2                                              12469      2   \n",
       "top      test  This movie was physically painful to sit throu...    neg   \n",
       "freq     6275                                                  2   6322   \n",
       "\n",
       "               file  \n",
       "count         12500  \n",
       "unique        12085  \n",
       "top     5417_10.txt  \n",
       "freq              2  "
      ]
     },
     "execution_count": 5,
     "metadata": {},
     "output_type": "execute_result"
    }
   ],
   "source": [
    "df.describe()"
   ]
  },
  {
   "cell_type": "code",
   "execution_count": 6,
   "metadata": {},
   "outputs": [
    {
     "name": "stdout",
     "output_type": "stream",
     "text": [
      "Cantidad de instancias de entrenamiento = 6225\n",
      "Cantidad de instancias de test = 6275\n"
     ]
    }
   ],
   "source": [
    "text_train = df[df.type == 'train'][\"review\"]\n",
    "label_train = df[df.type == 'train'][\"label\"]\n",
    "\n",
    "text_test = df[df.type == 'test'][\"review\"]\n",
    "label_test = df[df.type == 'test'][\"label\"]\n",
    "\n",
    "print(\"Cantidad de instancias de entrenamiento = {}\".format(len(text_train)))\n",
    "print(\"Cantidad de instancias de test = {}\".format(len(text_test)))\n",
    "\n"
   ]
  },
  {
   "cell_type": "code",
   "execution_count": 7,
   "metadata": {},
   "outputs": [
    {
     "name": "stdout",
     "output_type": "stream",
     "text": [
      "Class balance : 0.49493975903614457 pos 0.5050602409638554 neg\n"
     ]
    }
   ],
   "source": [
    "from __future__ import division\n",
    "print(\"Class balance : {} pos {} neg\".format(\n",
    "    (label_train == 'pos').sum() / label_train.shape[0], \n",
    "    (label_train == 'neg').sum() / label_train.shape[0]\n",
    "))\n"
   ]
  },
  {
   "cell_type": "code",
   "execution_count": 8,
   "metadata": {},
   "outputs": [],
   "source": [
    "from sklearn.feature_extraction.text import CountVectorizer\n",
    "\n",
    "vectorizer = CountVectorizer(max_df=0.90, min_df=0.01, max_features=5000)\n",
    "\n",
    "vectorizer.fit(text_train)\n",
    "\n",
    "X_train, y_train = vectorizer.transform(text_train), (label_train == 'pos').values\n",
    "X_test, y_test = vectorizer.transform(text_test), (label_test == 'pos').values"
   ]
  },
  {
   "cell_type": "code",
   "execution_count": 9,
   "metadata": {},
   "outputs": [],
   "source": [
    "import sentiment\n",
    "import numpy as np\n",
    "import matplotlib.pyplot as plt"
   ]
  },
  {
   "cell_type": "code",
   "execution_count": null,
   "metadata": {},
   "outputs": [],
   "source": [
    "def getMetrics(predictions, actualValues):\n",
    "    tp = np.sum( np.logical_and(predictions == 1, actualValues == 1) )\n",
    "    tn = np.sum( np.logical_and(predictions == 0, actualValues == 0) )\n",
    "    fp = np.sum( np.logical_and(predictions == 1, actualValues == 0) )\n",
    "    fn = np.sum( np.logical_and(predictions == 0, actualValues == 1) )\n",
    "\n",
    "    acc = (tp + tn) / (tp+tn+fp+fn)\n",
    "    if (tp + fp) == 0:\n",
    "        prec = 0\n",
    "    else:\n",
    "        prec = tp / (tp + fp)\n",
    "    if (tp + fn) == 0:\n",
    "        rec = 0\n",
    "    else:\n",
    "        rec = tp / (tp + fn)\n",
    "    return acc, prec, rec"
   ]
  },
  {
   "cell_type": "code",
   "execution_count": null,
   "metadata": {},
   "outputs": [],
   "source": [
    "%%time\n",
    "\n",
    "# Esta celda puede ser ejecutada sólo cuando se quiere probar PCA\n",
    "pca = sentiment.PCA(50)\n",
    "pca.fit(X_train)"
   ]
  },
  {
   "cell_type": "code",
   "execution_count": null,
   "metadata": {},
   "outputs": [],
   "source": [
    "\n",
    "# Idem anterior!\n",
    "\n",
    "pca_x_train = pca.transform(X_train)\n",
    "pca_x_test = pca.transform(X_test)"
   ]
  },
  {
   "cell_type": "code",
   "execution_count": null,
   "metadata": {},
   "outputs": [],
   "source": [
    "%%time\n",
    "\n",
    "# Descomentar la implementación deseada:\n",
    "# Uncomment this for KNN only (PCA disabled):\n",
    "# clf = sentiment.KNNClassifier(100)\n",
    "# clf.fit(X_train, y_train)\n",
    "\n",
    "# y_pred = clf.predict(X_test[:500])\n",
    "# acc = accuracy_score(y_test[:500], y_pred[:500])\n",
    "\n",
    "# Uncomment this for PCA enabled:\n",
    "clf = sentiment.KNNClassifier(550)\n",
    "clf.fit(pca_x_train, y_train)\n",
    "\n",
    "y_pred = clf.predict(pca_x_test)\n",
    "\n",
    "acc, prec, rec = getMetrics(y_pred, y_test)\n",
    "\n",
    "print(acc, prec, rec)"
   ]
  },
  {
   "cell_type": "code",
   "execution_count": null,
   "metadata": {},
   "outputs": [],
   "source": [
    "%%time\n",
    "## ==================== Experimento 1 ========================\n",
    "## Análisis de calidad de resultados en base a k y alpha\n",
    "\n",
    "## Analizo la variación de las métricas en funcion de k\n",
    "\n",
    "K_vals = np.arange(0,2500,50)\n",
    "K_vals[0] = 1\n",
    "mets = np.zeros((len(K_vals), 3))\n",
    "\n",
    "# pca = sentiment.PCA(50)\n",
    "# pca.fit(X_train)\n",
    "# Xtc_train = pca.transform(X_train)\n",
    "# Xtc_test = pca.transform(X_test)\n",
    "               \n",
    "for i,k in enumerate(K_vals):\n",
    "    clf = sentiment.KNNClassifier(k)\n",
    "    clf.fit(Xtc_train, y_train)\n",
    "    preds = clf.predict(Xtc_test)\n",
    "    acc, prec, rec = getMetrics(preds, y_test)\n",
    "    mets[i] = [acc, prec, rec]\n",
    "    print(\"Finished {}\".format(k))\n",
    "    \n",
    "plt.plot(K_vals,mets[:,0], 'b.-')\n",
    "plt.plot(K_vals,mets[:,1], 'r.-')\n",
    "plt.plot(K_vals,mets[:,2], 'g.-')\n",
    "plt.title(\"Metricas en funcion de K\")\n",
    "plt.xlabel(\"K\")\n",
    "plt.ylabel(\"%\")\n",
    "plt.axis([1, K_vals[-1], 0.4, 1])\n",
    "plt.gca().legend(('Acc','Prec','Recall'))"
   ]
  },
  {
   "cell_type": "code",
   "execution_count": null,
   "metadata": {},
   "outputs": [],
   "source": [
    "## Analizo la variación de las métricas en funcion de alpha para K fijo\n",
    "\n",
    "alphas = np.arange(0,500,50)\n",
    "alphas[0] = 1\n",
    "K_vals_fixes = np.array([50,550,1100])\n",
    "\n",
    "dmets = { i : np.zeros((len(alphas), 3)) for i in K_vals_fixes}\n",
    "dmets"
   ]
  },
  {
   "cell_type": "code",
   "execution_count": null,
   "metadata": {},
   "outputs": [],
   "source": [
    "print(\"Beginning alpha metric calculations\")\n",
    "\n",
    "for i,a in enumerate(alphas):\n",
    "    \n",
    "    pca = sentiment.PCA(a)\n",
    "    pca.fit(X_train)\n",
    "    Xtc_train = pca.transform(X_train)\n",
    "    Xtc_test = pca.transform(X_test)\n",
    "    print(\"Finished training PCA {}\".format(a))\n",
    "\n",
    "    for j, k in enumerate(K_vals_fixes):\n",
    "        clf = sentiment.KNNClassifier(k)\n",
    "        clf.fit(Xtc_train, y_train)\n",
    "        preds = clf.predict(Xtc_test)\n",
    "        acc, prec, rec = getMetrics(preds, y_test)\n",
    "        mets = dmets[k]\n",
    "        mets[i] = [acc, prec, rec]\n",
    "        print(\"Finished {}, alpha = {}\".format(k, a))\n",
    "\n",
    "\n",
    "## Metricas para PCA:\n",
    "\n",
    "line_styles = ['b.-', 'r.-', 'g.-', 'k.-', 'y.-', 'm.-']\n",
    "for j,k in enumerate(K_vals_fixes):\n",
    "    mets = dmets[k]\n",
    "\n",
    "    plt.subplot(3, 1, 1)\n",
    "    plt.plot(alphas,mets[:,0], line_styles[j])\n",
    "    plt.ylabel(\"Acc\")\n",
    "    plt.xticks([])\n",
    "\n",
    "    plt.subplot(3, 1, 2)\n",
    "    plt.plot(alphas,mets[:,1], line_styles[j])\n",
    "    plt.ylabel(\"Prec\")\n",
    "    plt.xticks([])\n",
    "    \n",
    "    plt.subplot(3, 1, 3)\n",
    "    plt.plot(alphas,mets[:,2], line_styles[j])\n",
    "    plt.ylabel(\"Rec\")\n",
    "    plt.xticks([])\n",
    "\n",
    "    \n",
    "plt.xlabel(\"alpha\")\n",
    "plt.xticks(alphas)\n",
    "plt.axis([1, alphas[-1], 0.3, 0.8])\n",
    "plt.gca().legend([str(i) for i in K_vals_fixes])"
   ]
  },
  {
   "cell_type": "code",
   "execution_count": null,
   "metadata": {},
   "outputs": [],
   "source": [
    "a = np.random.random((1200, 500))\n",
    "\n",
    "# generate 2 2d grids for the x & y bounds\n",
    "y, x = np.meshgrid(np.linspace(-1, 1200), np.linspace(1, 500))\n",
    "\n",
    "z = (1 - x / 2. + x ** 5 + y ** 3) * np.exp(-x ** 2 - y ** 2)\n",
    "# x and y are bounds, so z should be the value *inside* those bounds.\n",
    "# Therefore, remove the last value from the z array.\n",
    "z_min, z_max = -np.abs(z).max(), np.abs(z).max()\n",
    "\n",
    "fig, ax = plt.subplots()\n",
    "\n",
    "c = ax.pcolormesh(x, y, z, cmap='RdBu', vmin=z_min, vmax=z_max)\n",
    "ax.set_title('pcolormesh')\n",
    "# set the limits of the plot to the limits of the data\n",
    "ax.axis([x.min(), x.max(), y.min(), y.max()])\n",
    "fig.colorbar(c, ax=ax)\n",
    "\n",
    "# plt.show()\n",
    "\n",
    "# plt.imshow(a, cmap='hot', interpolation='nearest')\n",
    "# plt.show()\n",
    "dmets\n",
    "y"
   ]
  },
  {
   "cell_type": "code",
   "execution_count": 1,
   "metadata": {},
   "outputs": [
    {
     "ename": "NameError",
     "evalue": "name 'np' is not defined",
     "output_type": "error",
     "traceback": [
      "\u001b[0;31m---------------------------------------------------------------------------\u001b[0m",
      "\u001b[0;31mNameError\u001b[0m                                 Traceback (most recent call last)",
      "\u001b[0;32m<ipython-input-1-ec0039f9d49f>\u001b[0m in \u001b[0;36m<module>\u001b[0;34m\u001b[0m\n\u001b[0;32m----> 1\u001b[0;31m \u001b[0maccColorMap\u001b[0m \u001b[0;34m=\u001b[0m \u001b[0mnp\u001b[0m\u001b[0;34m.\u001b[0m\u001b[0mzeros\u001b[0m\u001b[0;34m(\u001b[0m\u001b[0mshape\u001b[0m\u001b[0;34m=\u001b[0m\u001b[0;34m(\u001b[0m\u001b[0mX_train\u001b[0m\u001b[0;34m.\u001b[0m\u001b[0mshape\u001b[0m\u001b[0;34m[\u001b[0m\u001b[0;36m0\u001b[0m\u001b[0;34m]\u001b[0m\u001b[0;34m,\u001b[0m \u001b[0;36m2500\u001b[0m\u001b[0;34m)\u001b[0m\u001b[0;34m)\u001b[0m\u001b[0;34m\u001b[0m\u001b[0;34m\u001b[0m\u001b[0m\n\u001b[0m\u001b[1;32m      2\u001b[0m \u001b[0mprecColorMap\u001b[0m \u001b[0;34m=\u001b[0m \u001b[0mnp\u001b[0m\u001b[0;34m.\u001b[0m\u001b[0mzeros\u001b[0m\u001b[0;34m(\u001b[0m\u001b[0mshape\u001b[0m\u001b[0;34m=\u001b[0m\u001b[0;34m(\u001b[0m\u001b[0mX_train\u001b[0m\u001b[0;34m.\u001b[0m\u001b[0mshape\u001b[0m\u001b[0;34m[\u001b[0m\u001b[0;36m0\u001b[0m\u001b[0;34m]\u001b[0m\u001b[0;34m,\u001b[0m \u001b[0;36m2500\u001b[0m\u001b[0;34m)\u001b[0m\u001b[0;34m)\u001b[0m\u001b[0;34m\u001b[0m\u001b[0;34m\u001b[0m\u001b[0m\n\u001b[1;32m      3\u001b[0m \u001b[0mrecColorMap\u001b[0m \u001b[0;34m=\u001b[0m \u001b[0mnp\u001b[0m\u001b[0;34m.\u001b[0m\u001b[0mzeros\u001b[0m\u001b[0;34m(\u001b[0m\u001b[0mshape\u001b[0m\u001b[0;34m=\u001b[0m\u001b[0;34m(\u001b[0m\u001b[0mX_train\u001b[0m\u001b[0;34m.\u001b[0m\u001b[0mshape\u001b[0m\u001b[0;34m[\u001b[0m\u001b[0;36m0\u001b[0m\u001b[0;34m]\u001b[0m\u001b[0;34m,\u001b[0m \u001b[0;36m2500\u001b[0m\u001b[0;34m)\u001b[0m\u001b[0;34m)\u001b[0m\u001b[0;34m\u001b[0m\u001b[0;34m\u001b[0m\u001b[0m\n\u001b[1;32m      4\u001b[0m \u001b[0;34m\u001b[0m\u001b[0m\n\u001b[1;32m      5\u001b[0m \u001b[0;31m# for i in range(X_train.shape[0], 0, -1):\u001b[0m\u001b[0;34m\u001b[0m\u001b[0;34m\u001b[0m\u001b[0;34m\u001b[0m\u001b[0m\n",
      "\u001b[0;31mNameError\u001b[0m: name 'np' is not defined"
     ]
    }
   ],
   "source": [
    "accColorMap = np.zeros(shape=(X_train.shape[0], 2500))\n",
    "precColorMap = np.zeros(shape=(X_train.shape[0], 2500))\n",
    "recColorMap = np.zeros(shape=(X_train.shape[0], 2500))\n",
    "\n",
    "# for i in range(X_train.shape[0], 0, -1): <-- FIXME, actual test\n",
    "for i in range(15, 0, -1): # <--Delete me\n",
    "    pca = sentiment.PCA(min(i, 50))\n",
    "    print(\"1\")\n",
    "    pca.fit(X_train[:50])\n",
    "    print(\"2\")\n",
    "    Xtc_train = pca.transform(X_train[:i])\n",
    "    print(\"3\")\n",
    "    Ytc_train = y_train[:i]\n",
    "    print(\"4\")\n",
    "    Xtc_test = pca.transform(X_test)\n",
    "    print(\"Finished training PCA train_size = {}\".format(i))\n",
    "\n",
    "#     for k in range(2500, 0, -1): <-- FIXME, actual test\n",
    "    for k in range(50, 0, -1): # <--Delete me\n",
    "        clf = sentiment.KNNClassifier(k)\n",
    "        clf.fit(Xtc_train, Ytc_train)\n",
    "        preds = clf.predict(Xtc_test)\n",
    "        acc, prec, rec = getMetrics(preds, y_test)\n",
    "        accColorMap[i - 1, k - 1] = acc\n",
    "        precColorMap[i - 1, k - 1] = prec\n",
    "        recColorMap[i - 1, k - 1] = rec\n",
    "        print(\"Finished k = {}, train_size = {}\".format(k, i))\n",
    "\n",
    "fig, ax = plt.subplots()\n",
    "\n",
    "c = ax.pcolormesh(C=accColorMap, cmap='hot')\n",
    "ax.set_title('Train_size vs neighbors')\n",
    "# set the limits of the plot to the limits of the data\n",
    "ax.axis([0, accColorMap.shape[1], 0, accColorMap.shape[0]])\n",
    "fig.colorbar(c, ax=ax)\n",
    "\n",
    "fig2, ax2 = plt.subplots()\n",
    "\n",
    "c2 = ax2.pcolormesh(C=precColorMap, cmap='hot')\n",
    "ax2.set_title('pcolormesh')\n",
    "# set the limits of the plot to the limits of the data\n",
    "ax2.axis([0, precColorMap.shape[1], 0, precColorMap.shape[0]])\n",
    "fig2.colorbar(c2, ax=ax2)\n",
    "\n",
    "fig3, ax3 = plt.subplots()\n",
    "\n",
    "c3 = ax3.pcolormesh(C=recColorMap, cmap='hot')\n",
    "ax3.set_title('pcolormesh')\n",
    "# set the limits of the plot to the limits of the data\n",
    "ax3.axis([0, recColorMap.shape[1], 0, recColorMap.shape[0]])\n",
    "fig3.colorbar(c3, ax=ax3)\n",
    "\n",
    "plt.show()"
   ]
  }
 ],
 "metadata": {
  "kernelspec": {
   "display_name": "Python 3",
   "language": "python",
   "name": "python3"
  },
  "language_info": {
   "codemirror_mode": {
    "name": "ipython",
    "version": 3
   },
   "file_extension": ".py",
   "mimetype": "text/x-python",
   "name": "python",
   "nbconvert_exporter": "python",
   "pygments_lexer": "ipython3",
   "version": "3.7.3"
  }
 },
 "nbformat": 4,
 "nbformat_minor": 2
}
