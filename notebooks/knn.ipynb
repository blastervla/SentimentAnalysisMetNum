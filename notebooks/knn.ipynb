{
 "cells": [
  {
   "cell_type": "markdown",
   "metadata": {},
   "source": [
    "# Sentiment Analysis con KNN\n",
    "## Clasificador en C++ 💪💪\n",
    "Vamos a probar a nuestro bichito\n"
   ]
  },
  {
   "cell_type": "markdown",
   "metadata": {},
   "source": [
    "Definir los path al ejecutable de python 3.6 y sus librerías,\n",
    "de acuerdo al virtual env que estén corriendo."
   ]
  },
  {
   "cell_type": "code",
   "execution_count": 1,
   "metadata": {},
   "outputs": [
    {
     "name": "stdout",
     "output_type": "stream",
     "text": [
      "mkdir: build: File exists\n",
      "-- The C compiler identification is AppleClang 10.0.0.10001145\n",
      "-- The CXX compiler identification is AppleClang 10.0.0.10001145\n",
      "-- Check for working C compiler: /Applications/Xcode.app/Contents/Developer/Toolchains/XcodeDefault.xctoolchain/usr/bin/cc\n",
      "-- Check for working C compiler: /Applications/Xcode.app/Contents/Developer/Toolchains/XcodeDefault.xctoolchain/usr/bin/cc -- works\n",
      "-- Detecting C compiler ABI info\n",
      "-- Detecting C compiler ABI info - done\n",
      "-- Detecting C compile features\n",
      "-- Detecting C compile features - done\n",
      "-- Check for working CXX compiler: /Applications/Xcode.app/Contents/Developer/Toolchains/XcodeDefault.xctoolchain/usr/bin/c++\n",
      "-- Check for working CXX compiler: /Applications/Xcode.app/Contents/Developer/Toolchains/XcodeDefault.xctoolchain/usr/bin/c++ -- works\n",
      "-- Detecting CXX compiler ABI info\n",
      "-- Detecting CXX compiler ABI info - done\n",
      "-- Detecting CXX compile features\n",
      "-- Detecting CXX compile features - done\n",
      "Release mode\n",
      "-- Found PythonInterp: /anaconda3/envs/tp2/bin/python (found version \"3.6.5\") \n",
      "-- Found PythonLibs: /anaconda3/envs/tp2/lib/libpython3.6m.dylib\n",
      "-- pybind11 v2.3.dev0\n",
      "-- Performing Test HAS_FLTO\n",
      "-- Performing Test HAS_FLTO - Success\n",
      "-- LTO enabled\n",
      "CMAKE_INSTALL_PREFIX=/Users/vpomsztein/Documents/PrivateRepositories/SentimentAnalysisMetNum\n",
      "-- Configuring done\n",
      "-- Generating done\n",
      "-- Build files have been written to: /Users/vpomsztein/Documents/PrivateRepositories/SentimentAnalysisMetNum/build\n",
      "\u001b[35m\u001b[1mScanning dependencies of target sentiment\u001b[0m\n",
      "[ 20%] \u001b[32mBuilding CXX object CMakeFiles/sentiment.dir/src/sentiment.cpp.o\u001b[0m\n",
      "[ 40%] \u001b[32mBuilding CXX object CMakeFiles/sentiment.dir/src/knn.cpp.o\u001b[0m\n",
      "[ 60%] \u001b[32mBuilding CXX object CMakeFiles/sentiment.dir/src/pca.cpp.o\u001b[0m\n",
      "[ 80%] \u001b[32mBuilding CXX object CMakeFiles/sentiment.dir/src/eigen.cpp.o\u001b[0m\n",
      "[100%] \u001b[32m\u001b[1mLinking CXX shared module sentiment.cpython-36m-darwin.so\u001b[0m\n",
      "[100%] Built target sentiment\n",
      "\u001b[36mInstall the project...\u001b[0m\n",
      "-- Install configuration: \"Release\"\n",
      "-- Installing: /Users/vpomsztein/Documents/PrivateRepositories/SentimentAnalysisMetNum/notebooks/sentiment.cpython-36m-darwin.so\n"
     ]
    }
   ],
   "source": [
    "!cd .. && git submodule init\n",
    "!cd .. && git submodule update\n",
    "!cd .. && mkdir build\n",
    "!cd ../build/ && rm -rf *\n",
    "!cd ../build && cmake \\\n",
    "  -DPYTHON_EXECUTABLE=\"$(which python)\" \\\n",
    "  -DCMAKE_BUILD_TYPE=Release ..\n",
    "!cd ../build && make install"
   ]
  },
  {
   "cell_type": "code",
   "execution_count": 2,
   "metadata": {},
   "outputs": [
    {
     "name": "stdout",
     "output_type": "stream",
     "text": [
      "/Users/vpomsztein/Documents/PrivateRepositories/SentimentAnalysisMetNum/notebooks\n",
      "Python 3.6.5 :: Anaconda, Inc.\n"
     ]
    }
   ],
   "source": [
    "# Verifico la correcta instalación. Si no falla el import está OK\n",
    "!pwd\n",
    "!python --version\n",
    "import sentiment\n"
   ]
  },
  {
   "cell_type": "code",
   "execution_count": 3,
   "metadata": {},
   "outputs": [
    {
     "name": "stdout",
     "output_type": "stream",
     "text": [
      "x ./._imdb_small.csv\n",
      "x imdb_small.csv\n",
      "Cantidad de documentos: 12500\n"
     ]
    }
   ],
   "source": [
    "%load_ext autoreload\n",
    "%autoreload 2\n",
    "import pandas as pd\n",
    "\n",
    "!cd ../data && tar -xvf *.tgz\n",
    "\n",
    "df = pd.read_csv(\"../data/imdb_small.csv\", index_col=0)\n",
    "\n",
    "print(\"Cantidad de documentos: {}\".format(df.shape[0]))"
   ]
  },
  {
   "cell_type": "code",
   "execution_count": 4,
   "metadata": {},
   "outputs": [
    {
     "data": {
      "text/html": [
       "<div>\n",
       "<style scoped>\n",
       "    .dataframe tbody tr th:only-of-type {\n",
       "        vertical-align: middle;\n",
       "    }\n",
       "\n",
       "    .dataframe tbody tr th {\n",
       "        vertical-align: top;\n",
       "    }\n",
       "\n",
       "    .dataframe thead th {\n",
       "        text-align: right;\n",
       "    }\n",
       "</style>\n",
       "<table border=\"1\" class=\"dataframe\">\n",
       "  <thead>\n",
       "    <tr style=\"text-align: right;\">\n",
       "      <th></th>\n",
       "      <th>type</th>\n",
       "      <th>review</th>\n",
       "      <th>label</th>\n",
       "      <th>file</th>\n",
       "    </tr>\n",
       "  </thead>\n",
       "  <tbody>\n",
       "    <tr>\n",
       "      <th>count</th>\n",
       "      <td>12500</td>\n",
       "      <td>12500</td>\n",
       "      <td>12500</td>\n",
       "      <td>12500</td>\n",
       "    </tr>\n",
       "    <tr>\n",
       "      <th>unique</th>\n",
       "      <td>2</td>\n",
       "      <td>12469</td>\n",
       "      <td>2</td>\n",
       "      <td>12085</td>\n",
       "    </tr>\n",
       "    <tr>\n",
       "      <th>top</th>\n",
       "      <td>test</td>\n",
       "      <td>I have always been a fan of Bottom, grabbing a...</td>\n",
       "      <td>neg</td>\n",
       "      <td>5304_10.txt</td>\n",
       "    </tr>\n",
       "    <tr>\n",
       "      <th>freq</th>\n",
       "      <td>6275</td>\n",
       "      <td>2</td>\n",
       "      <td>6322</td>\n",
       "      <td>2</td>\n",
       "    </tr>\n",
       "  </tbody>\n",
       "</table>\n",
       "</div>"
      ],
      "text/plain": [
       "         type                                             review  label  \\\n",
       "count   12500                                              12500  12500   \n",
       "unique      2                                              12469      2   \n",
       "top      test  I have always been a fan of Bottom, grabbing a...    neg   \n",
       "freq     6275                                                  2   6322   \n",
       "\n",
       "               file  \n",
       "count         12500  \n",
       "unique        12085  \n",
       "top     5304_10.txt  \n",
       "freq              2  "
      ]
     },
     "execution_count": 4,
     "metadata": {},
     "output_type": "execute_result"
    }
   ],
   "source": [
    "df.describe()"
   ]
  },
  {
   "cell_type": "code",
   "execution_count": 5,
   "metadata": {},
   "outputs": [
    {
     "name": "stdout",
     "output_type": "stream",
     "text": [
      "Cantidad de instancias de entrenamiento = 6225\n",
      "Cantidad de instancias de test = 6275\n"
     ]
    }
   ],
   "source": [
    "text_train = df[df.type == 'train'][\"review\"]\n",
    "label_train = df[df.type == 'train'][\"label\"]\n",
    "\n",
    "text_test = df[df.type == 'test'][\"review\"]\n",
    "label_test = df[df.type == 'test'][\"label\"]\n",
    "\n",
    "#descomentar esto si se quiere tener un dataset más chico que los 6.000 totales\n",
    "#text_train = text_train[:100]\n",
    "#label_train = label_train[:100]\n",
    "\n",
    "#text_test = text_test[:100]\n",
    "#label_test = label_test[:100]\n",
    "\n",
    "print(\"Cantidad de instancias de entrenamiento = {}\".format(len(text_train)))\n",
    "print(\"Cantidad de instancias de test = {}\".format(len(text_test)))\n"
   ]
  },
  {
   "cell_type": "code",
   "execution_count": 6,
   "metadata": {},
   "outputs": [
    {
     "name": "stdout",
     "output_type": "stream",
     "text": [
      "Class balance : 0.49493975903614457 pos 0.5050602409638554 neg\n"
     ]
    }
   ],
   "source": [
    "from __future__ import division\n",
    "print(\"Class balance : {} pos {} neg\".format(\n",
    "    (label_train == 'pos').sum() / label_train.shape[0], \n",
    "    (label_train == 'neg').sum() / label_train.shape[0]\n",
    "))\n"
   ]
  },
  {
   "cell_type": "code",
   "execution_count": 7,
   "metadata": {},
   "outputs": [],
   "source": [
    "from sklearn.feature_extraction.text import CountVectorizer\n",
    "\n",
    "vectorizer = CountVectorizer(max_df=0.85, min_df=0.01, max_features=50000)\n",
    "\n",
    "vectorizer.fit(text_train)\n",
    "\n",
    "X_train, y_train = vectorizer.transform(text_train), (label_train == 'pos').values\n",
    "X_test, y_test = vectorizer.transform(text_test), (label_test == 'pos').values\n"
   ]
  },
  {
   "cell_type": "code",
   "execution_count": 8,
   "metadata": {},
   "outputs": [],
   "source": [
    "import sentiment\n",
    "import numpy as np\n",
    "import matplotlib.pyplot as plt"
   ]
  },
  {
   "cell_type": "code",
   "execution_count": 9,
   "metadata": {},
   "outputs": [
    {
     "name": "stdout",
     "output_type": "stream",
     "text": [
      "Done! You're a good boy 🐶\n"
     ]
    }
   ],
   "source": [
    "import calendar;\n",
    "import time;\n",
    "\n",
    "def f1score(prec, rec):\n",
    "    f1 = 2*(prec*rec)/(prec+rec)\n",
    "    return f1\n",
    "\n",
    "def getMetrics(predictions, actualValues):\n",
    "    tp = np.sum( np.logical_and(predictions == 1, actualValues == 1) )\n",
    "    tn = np.sum( np.logical_and(predictions == 0, actualValues == 0) )\n",
    "    fp = np.sum( np.logical_and(predictions == 1, actualValues == 0) )\n",
    "    fn = np.sum( np.logical_and(predictions == 0, actualValues == 1) )\n",
    "\n",
    "    acc = (tp + tn) / (tp+tn+fp+fn)\n",
    "    if (tp + fp) == 0:\n",
    "        #esto es que nunca predije que algo era positivo, o sea que nunca le pifié\n",
    "        prec = 1\n",
    "    else:\n",
    "        prec = tp / (tp + fp)\n",
    "    if (tp + fn) == 0:\n",
    "        #esto es que no había positivos reales, o sea que \"los agarré a todos\"\n",
    "        rec = 1\n",
    "    else:\n",
    "        rec = tp / (tp + fn)\n",
    "    return acc, prec, rec\n",
    "\n",
    "def saveData(filename, data):\n",
    "    ts = calendar.timegm(time.gmtime())\n",
    "    np.savetxt(\"{}_{}.csv\".format(ts, filename), data, delimiter=\",\")\n",
    "    \n",
    "print(\"Done! You're a good boy 🐶\")"
   ]
  },
  {
   "cell_type": "code",
   "execution_count": null,
   "metadata": {},
   "outputs": [],
   "source": [
    "%%time\n",
    "\n",
    "# Esta celda puede ser ejecutada sólo cuando se quiere probar PCA\n",
    "pca = sentiment.PCA(50)\n",
    "pca.fit(X_train)"
   ]
  },
  {
   "cell_type": "code",
   "execution_count": null,
   "metadata": {},
   "outputs": [],
   "source": [
    "\n",
    "# Idem anterior!\n",
    "\n",
    "pca_x_train = pca.transform(X_train)\n",
    "pca_x_test = pca.transform(X_test)"
   ]
  },
  {
   "cell_type": "code",
   "execution_count": null,
   "metadata": {},
   "outputs": [],
   "source": [
    "%%time\n",
    "\n",
    "# Descomentar la implementación deseada:\n",
    "# Uncomment this for KNN only (PCA disabled):\n",
    "clf = sentiment.KNNClassifier(100)\n",
    "clf.fit(X_train, y_train)\n",
    "\n",
    "y_pred = clf.predict(X_test[:500])\n",
    "acc = accuracy_score(y_test[:500], y_pred[:500])\n",
    "\n",
    "# Uncomment this for PCA enabled:\n",
    "#clf = sentiment.KNNClassifier(550)\n",
    "#clf.fit(pca_x_train, y_train)\n",
    "\n",
    "#y_pred = clf.predict(pca_x_test)\n",
    "\n",
    "#acc, prec, rec = getMetrics(y_pred, y_test)\n",
    "#f1 = f1score(prec, rec)\n",
    "\n",
    "print(acc, prec, rec, f1)"
   ]
  },
  {
   "cell_type": "code",
   "execution_count": 11,
   "metadata": {},
   "outputs": [
    {
     "name": "stdout",
     "output_type": "stream",
     "text": [
      "Finished 1\n",
      "Finished 500\n",
      "Finished 1000\n",
      "Finished 1500\n",
      "Finished 2000\n",
      "Finished 2500\n",
      "Finished 3000\n",
      "Finished 3500\n",
      "Finished 4000\n",
      "Finished 4500\n",
      "Finished 5000\n",
      "Finished 5500\n",
      "Finished 6000\n"
     ]
    },
    {
     "data": {
      "text/plain": [
       "<matplotlib.legend.Legend at 0x117a93fd0>"
      ]
     },
     "execution_count": 11,
     "metadata": {},
     "output_type": "execute_result"
    },
    {
     "data": {
      "image/png": "[encoded data removed]",
      "text/plain": [
       "<Figure size 432x288 with 1 Axes>"
      ]
     },
     "metadata": {
      "needs_background": "light"
     },
     "output_type": "display_data"
    }
   ],
   "source": [
    "## ==================== Experimento 1 ========================\n",
    "## Análisis de calidad de resultados en base a k y alpha\n",
    "\n",
    "## Analizo la variación de las métricas en funcion de k\n",
    "\n",
    "K_vals = np.arange(0,X_train.shape[0], 500)\n",
    "K_vals[0] = 1\n",
    "mets2 = np.zeros((len(K_vals), 4))\n",
    "               \n",
    "pca = sentiment.PCA(500)\n",
    "pca.fit(X_train)\n",
    "Xtc_train = pca.transform(X_train)\n",
    "Xtc_test = pca.transform(X_test)\n",
    "    \n",
    "for i,k in enumerate(K_vals):\n",
    "    clf = sentiment.KNNClassifier(k)\n",
    "    clf.fit(Xtc_train, y_train)\n",
    "    preds = clf.predict(Xtc_test)\n",
    "    acc, prec, rec = getMetrics(preds, y_test)\n",
    "    f1 = f1score(prec, rec)\n",
    "    mets2[i] = [acc, prec, rec, f1]\n",
    "    print(\"Finished {}\".format(k))\n",
    "    \n",
    "saveData(\"KNN_1-6250_Alpha_500\", mets2)\n",
    "plt.plot(K_vals,mets2[:,0], 'b.-')\n",
    "plt.plot(K_vals,mets2[:,1], 'r.-')\n",
    "plt.plot(K_vals,mets2[:,2], 'g.-')\n",
    "plt.plot(K_vals,mets2[:,3], 'k.-')\n",
    "plt.title(\"Métricas en funcion de K (Alpha 500)\")\n",
    "plt.xlabel(\"K\")\n",
    "plt.ylabel(\"%\")\n",
    "plt.axis([1, K_vals[-1], 0, 1])\n",
    "plt.gca().legend(('Acc','Prec','Recall','F1'))"
   ]
  },
  {
   "cell_type": "code",
   "execution_count": 12,
   "metadata": {},
   "outputs": [
    {
     "data": {
      "text/plain": [
       "<matplotlib.legend.Legend at 0x114d38c18>"
      ]
     },
     "execution_count": 12,
     "metadata": {},
     "output_type": "execute_result"
    },
    {
     "data": {
      "image/png": "[encoded data removed]",
      "text/plain": [
       "<Figure size 432x288 with 1 Axes>"
      ]
     },
     "metadata": {
      "needs_background": "light"
     },
     "output_type": "display_data"
    }
   ],
   "source": [
    "plt.plot(K_vals,mets2[:,0], 'b.-')\n",
    "plt.plot(K_vals,mets2[:,1], 'r.-')\n",
    "plt.plot(K_vals,mets2[:,2], 'g.-')\n",
    "plt.plot(K_vals,mets2[:,3], 'k.-')\n",
    "plt.title(\"Métricas en funcion de K (Alpha 500)\")\n",
    "plt.xlabel(\"K\")\n",
    "plt.ylabel(\"%\")\n",
    "plt.axis([1, K_vals[-1], 0, 1])\n",
    "plt.gca().legend(('Acc','Prec','Recall','F1'))"
   ]
  },
  {
   "cell_type": "code",
   "execution_count": 54,
   "metadata": {},
   "outputs": [
    {
     "data": {
      "text/plain": [
       "<matplotlib.legend.Legend at 0x1291d6128>"
      ]
     },
     "execution_count": 54,
     "metadata": {},
     "output_type": "execute_result"
    },
    {
     "data": {
      "image/png": "[encoded data removed]",
      "text/plain": [
       "<Figure size 432x288 with 1 Axes>"
      ]
     },
     "metadata": {
      "needs_background": "light"
     },
     "output_type": "display_data"
    }
   ],
   "source": [
    "plt.plot(K_vals,mets[:,0], 'b.-')\n",
    "plt.plot(K_vals,mets[:,1], 'r.-')\n",
    "plt.plot(K_vals,mets[:,2], 'g.-')\n",
    "plt.plot(K_vals,mets[:,3], 'k.-')\n",
    "plt.title(\"Métricas en funcion de K (Alpha = 500)\")\n",
    "plt.xlabel(\"K\")\n",
    "plt.ylabel(\"%\")\n",
    "plt.axis([1, K_vals[-1], 0, 1])\n",
    "plt.xticks(np.arange(0, K_vals[-1], 500.0))\n",
    "plt.gca().legend(('Acc','Prec','Recall','F1'))"
   ]
  },
  {
   "cell_type": "code",
   "execution_count": 14,
   "metadata": {},
   "outputs": [
    {
     "data": {
      "text/plain": [
       "<matplotlib.legend.Legend at 0x121236438>"
      ]
     },
     "execution_count": 14,
     "metadata": {},
     "output_type": "execute_result"
    },
    {
     "data": {
      "image/png": "[encoded data removed]",
      "text/plain": [
       "<Figure size 432x288 with 1 Axes>"
      ]
     },
     "metadata": {
      "needs_background": "light"
     },
     "output_type": "display_data"
    }
   ],
   "source": [
    "plt.plot(K_vals,mets[:,0], 'b.-')\n",
    "plt.plot(K_vals,mets[:,1], 'r.-')\n",
    "plt.plot(K_vals,mets[:,2], 'g.-')\n",
    "plt.plot(K_vals,mets[:,3], 'k.-')\n",
    "plt.title(\"Métricas en funcion de K\")\n",
    "plt.xlabel(\"K\")\n",
    "plt.ylabel(\"%\")\n",
    "plt.axis([1, K_vals[-1], 0.4, 1])\n",
    "plt.gca().legend(('Acc','Prec','Recall','F1'), loc=\"upper right\")\n",
    "# plt.legend((mets[:,0], mets[:,1], mets[:,2], mets[:,3]), (\"Acc\", \"Prec\", \"Rec\", \"\"), loc=\"upper right\")"
   ]
  },
  {
   "cell_type": "code",
   "execution_count": 11,
   "metadata": {},
   "outputs": [
    {
     "data": {
      "text/plain": [
       "{2000: array([[0., 0., 0., 0.],\n",
       "        [0., 0., 0., 0.],\n",
       "        [0., 0., 0., 0.],\n",
       "        [0., 0., 0., 0.],\n",
       "        [0., 0., 0., 0.],\n",
       "        [0., 0., 0., 0.],\n",
       "        [0., 0., 0., 0.],\n",
       "        [0., 0., 0., 0.],\n",
       "        [0., 0., 0., 0.],\n",
       "        [0., 0., 0., 0.]])}"
      ]
     },
     "execution_count": 11,
     "metadata": {},
     "output_type": "execute_result"
    }
   ],
   "source": [
    "## Analizo la variación de las métricas en funcion de alpha para K fijo\n",
    "\n",
    "alphas = np.arange(0,1501,150)\n",
    "alphas[0] = 1\n",
    "K_vals_fixes = np.array([100,2000,2600])\n",
    "\n",
    "dmets = { i : np.zeros((len(alphas), 4)) for i in K_vals_fixes}\n",
    "dmets"
   ]
  },
  {
   "cell_type": "code",
   "execution_count": 12,
   "metadata": {},
   "outputs": [
    {
     "name": "stdout",
     "output_type": "stream",
     "text": [
      "Beginning alpha metric calculations\n",
      "Finished training PCA 1\n",
      "Finished 2000, alpha = 1\n",
      "Finished training PCA 15\n",
      "Finished 2000, alpha = 15\n",
      "Finished training PCA 30\n",
      "Finished 2000, alpha = 30\n",
      "Finished training PCA 45\n",
      "Finished 2000, alpha = 45\n",
      "Finished training PCA 60\n",
      "Finished 2000, alpha = 60\n",
      "Finished training PCA 75\n",
      "Finished 2000, alpha = 75\n",
      "Finished training PCA 90\n",
      "Finished 2000, alpha = 90\n",
      "Finished training PCA 105\n",
      "Finished 2000, alpha = 105\n",
      "Finished training PCA 120\n",
      "Finished 2000, alpha = 120\n",
      "Finished training PCA 135\n",
      "Finished 2000, alpha = 135\n"
     ]
    },
    {
     "ename": "NameError",
     "evalue": "name 'K_vals' is not defined",
     "output_type": "error",
     "traceback": [
      "\u001b[0;31m---------------------------------------------------------------------------\u001b[0m",
      "\u001b[0;31mNameError\u001b[0m                                 Traceback (most recent call last)",
      "\u001b[0;32m<ipython-input-12-b23accbd657b>\u001b[0m in \u001b[0;36m<module>\u001b[0;34m\u001b[0m\n\u001b[1;32m     53\u001b[0m \u001b[0;31m#     plt.xticks([])\u001b[0m\u001b[0;34m\u001b[0m\u001b[0;34m\u001b[0m\u001b[0m\n\u001b[1;32m     54\u001b[0m \u001b[0;34m\u001b[0m\u001b[0m\n\u001b[0;32m---> 55\u001b[0;31m \u001b[0mplt\u001b[0m\u001b[0;34m.\u001b[0m\u001b[0mplot\u001b[0m\u001b[0;34m(\u001b[0m\u001b[0mK_vals\u001b[0m\u001b[0;34m,\u001b[0m\u001b[0mmets\u001b[0m\u001b[0;34m[\u001b[0m\u001b[0;34m:\u001b[0m\u001b[0;34m,\u001b[0m\u001b[0;36m0\u001b[0m\u001b[0;34m]\u001b[0m\u001b[0;34m,\u001b[0m \u001b[0;34m'b.-'\u001b[0m\u001b[0;34m)\u001b[0m\u001b[0;34m\u001b[0m\u001b[0m\n\u001b[0m\u001b[1;32m     56\u001b[0m \u001b[0mplt\u001b[0m\u001b[0;34m.\u001b[0m\u001b[0mplot\u001b[0m\u001b[0;34m(\u001b[0m\u001b[0mK_vals\u001b[0m\u001b[0;34m,\u001b[0m\u001b[0mmets\u001b[0m\u001b[0;34m[\u001b[0m\u001b[0;34m:\u001b[0m\u001b[0;34m,\u001b[0m\u001b[0;36m1\u001b[0m\u001b[0;34m]\u001b[0m\u001b[0;34m,\u001b[0m \u001b[0;34m'r.-'\u001b[0m\u001b[0;34m)\u001b[0m\u001b[0;34m\u001b[0m\u001b[0m\n\u001b[1;32m     57\u001b[0m \u001b[0mplt\u001b[0m\u001b[0;34m.\u001b[0m\u001b[0mplot\u001b[0m\u001b[0;34m(\u001b[0m\u001b[0mK_vals\u001b[0m\u001b[0;34m,\u001b[0m\u001b[0mmets\u001b[0m\u001b[0;34m[\u001b[0m\u001b[0;34m:\u001b[0m\u001b[0;34m,\u001b[0m\u001b[0;36m2\u001b[0m\u001b[0;34m]\u001b[0m\u001b[0;34m,\u001b[0m \u001b[0;34m'g.-'\u001b[0m\u001b[0;34m)\u001b[0m\u001b[0;34m\u001b[0m\u001b[0m\n",
      "\u001b[0;31mNameError\u001b[0m: name 'K_vals' is not defined"
     ]
    }
   ],
   "source": [
    "print(\"Beginning alpha metric calculations\")\n",
    "\n",
    "for i,a in enumerate(alphas):\n",
    "    \n",
    "    pca = sentiment.PCA(a)\n",
    "    pca.fit(X_train)\n",
    "    Xtc_train = pca.transform(X_train)\n",
    "    Xtc_test = pca.transform(X_test)\n",
    "    print(\"Finished training PCA {}\".format(a))\n",
    "\n",
    "    for j, k in enumerate(K_vals_fixes):\n",
    "        clf = sentiment.KNNClassifier(k)\n",
    "        clf.fit(Xtc_train, y_train)\n",
    "        preds = clf.predict(Xtc_test)\n",
    "        acc, prec, rec = getMetrics(preds, y_test)\n",
    "        f1 = f1score(prec,rec)\n",
    "        mets = dmets[k]\n",
    "        mets[i] = [acc, prec, rec, f1]\n",
    "        print(\"Finished {}, alpha = {}\".format(k, a))\n",
    "\n",
    "\n",
    "## Metricas para PCA:\n",
    "\n",
    "saveData(\"Alpha_1-150_K_1-2000-2600\", mets)\n",
    "\n",
    "line_styles = ['b.-', 'r.-', 'g.-', 'k.-', 'y.-', 'm.-']\n",
    "for j,k in enumerate(K_vals_fixes):\n",
    "    mets = dmets[k]\n",
    "\n",
    "    plt.subplot(4, 1, 1)\n",
    "    plt.title(\"Métricas en funcion de Alpha\")\n",
    "    plt.plot(alphas,mets[:,0], line_styles[j])\n",
    "    plt.axis([1, alphas[-1], 0, 1])\n",
    "    plt.ylabel(\"Acc\")\n",
    "    plt.xticks([])\n",
    "\n",
    "    plt.subplot(4, 1, 2)\n",
    "    plt.plot(alphas,mets[:,1], line_styles[j])\n",
    "    plt.axis([1, alphas[-1], 0, 1])\n",
    "    plt.ylabel(\"Prec\")\n",
    "    plt.xticks([])\n",
    "    \n",
    "    plt.subplot(4, 1, 3)\n",
    "    plt.plot(alphas,mets[:,2], line_styles[j])\n",
    "    plt.axis([1, alphas[-1], 0, 1])\n",
    "    plt.ylabel(\"Rec\")\n",
    "    plt.xticks([])\n",
    "    \n",
    "    plt.subplot(4, 1, 4)\n",
    "    plt.plot(alphas,mets[:,3], line_styles[j])\n",
    "    plt.axis([1, alphas[-1], 0, 1])\n",
    "    plt.ylabel(\"F1\")\n",
    "    plt.xticks([])\n",
    "\n",
    "plt.xlabel(\"Alpha\")\n",
    "plt.xticks(alphas)\n",
    "plt.axis([1, alphas[-1], 0, 1])\n",
    "plt.gca().legend([str(i) for i in K_vals_fixes], loc=(1.04,0))"
   ]
  },
  {
   "cell_type": "code",
   "execution_count": 39,
   "metadata": {},
   "outputs": [
    {
     "data": {
      "text/plain": [
       "<matplotlib.legend.Legend at 0x12582f9b0>"
      ]
     },
     "execution_count": 39,
     "metadata": {},
     "output_type": "execute_result"
    },
    {
     "data": {
      "image/png": "[encoded data removed]",
      "text/plain": [
       "<Figure size 432x288 with 4 Axes>"
      ]
     },
     "metadata": {
      "needs_background": "light"
     },
     "output_type": "display_data"
    }
   ],
   "source": [
    "line_styles = ['b.-', 'r.-', 'g.-', 'k.-', 'y.-', 'm.-']\n",
    "for j,k in enumerate(K_vals_fixes):\n",
    "    mets = dmets[k]\n",
    "\n",
    "    plt.subplot(4, 1, 1)\n",
    "    plt.title(\"Métricas en funcion de Alpha\")\n",
    "    plt.plot(alphas,mets[:,0], line_styles[j])\n",
    "    plt.axis([1, alphas[-1], 0.4, 1])\n",
    "    plt.ylabel(\"Acc\")\n",
    "    plt.xticks([])\n",
    "\n",
    "    plt.subplot(4, 1, 2)\n",
    "    plt.plot(alphas,mets[:,1], line_styles[j])\n",
    "    plt.axis([1, alphas[-1], 0.4, 1])\n",
    "    plt.ylabel(\"Prec\")\n",
    "    plt.xticks([])\n",
    "    \n",
    "    plt.subplot(4, 1, 3)\n",
    "    plt.plot(alphas,mets[:,2], line_styles[j])\n",
    "    plt.axis([1, alphas[-1], 0.4, 1])\n",
    "    plt.ylabel(\"Rec\")\n",
    "    plt.xticks([])\n",
    "    \n",
    "    plt.subplot(4, 1, 4)\n",
    "    plt.plot(alphas,mets[:,3], line_styles[j])\n",
    "    plt.axis([1, alphas[-1], 0.4, 1])\n",
    "    plt.ylabel(\"F1\")\n",
    "    plt.xticks([])\n",
    "\n",
    "\n",
    "plt.xlabel(\"Alpha\")\n",
    "plt.xticks(alphas)\n",
    "plt.axis([1, alphas[-1], 0.4, 1])\n",
    "plt.gca().legend([str(i) for i in K_vals_fixes], loc=(1.04,0))"
   ]
  },
  {
   "cell_type": "code",
   "execution_count": null,
   "metadata": {},
   "outputs": [],
   "source": [
    "a = np.random.random((1200, 500))\n",
    "\n",
    "# generate 2 2d grids for the x & y bounds\n",
    "y, x = np.meshgrid(np.linspace(-1, 1200), np.linspace(1, 500))\n",
    "\n",
    "z = (1 - x / 2. + x ** 5 + y ** 3) * np.exp(-x ** 2 - y ** 2)\n",
    "# x and y are bounds, so z should be the value *inside* those bounds.\n",
    "# Therefore, remove the last value from the z array.\n",
    "z_min, z_max = -np.abs(z).max(), np.abs(z).max()\n",
    "\n",
    "fig, ax = plt.subplots()\n",
    "\n",
    "c = ax.pcolormesh(x, y, z, cmap='RdBu', vmin=z_min, vmax=z_max)\n",
    "ax.set_title('pcolormesh')\n",
    "# set the limits of the plot to the limits of the data\n",
    "ax.axis([x.min(), x.max(), y.min(), y.max()])\n",
    "fig.colorbar(c, ax=ax)\n",
    "\n",
    "# plt.show()\n",
    "\n",
    "# plt.imshow(a, cmap='hot', interpolation='nearest')\n",
    "# plt.show()\n",
    "dmets\n",
    "y"
   ]
  },
  {
   "cell_type": "code",
   "execution_count": null,
   "metadata": {},
   "outputs": [],
   "source": [
    "for i in range(15, 0, -1): # <--Delete me\n",
    "    print(i)\n",
    "    pca = sentiment.PCA(min(i, 50))\n",
    "    pca.fit(X_train[:i])\n",
    "    Xtc_train = pca.transform(X_train[:i])\n",
    "    Ytc_train = y_train[:i]\n",
    "    Xtc_test = pca.transform(X_test)\n",
    "    \n",
    "    for k in range(min(i, 50), 0, -1): # <--Delete me\n",
    "        clf = sentiment.KNNClassifier(k)"
   ]
  },
  {
   "cell_type": "code",
   "execution_count": null,
   "metadata": {},
   "outputs": [],
   "source": [
    "trainSizeRange = range(X_train.shape[0], 0, -120)\n",
    "trainSizeRangeLength = len(trainSizeRange)\n",
    "knnRange = range(2500, 0, -50)\n",
    "knnRangeLength = len(knnRange)\n",
    "\n",
    "print(\"Will have {} trainSize instances\".format(trainSizeRangeLength))\n",
    "print(\"Will have {} knn instances\".format(knnRangeLength))\n",
    "\n",
    "accColorMap = np.zeros(shape=(trainSizeRangeLength, len(knnRange)))\n",
    "precColorMap = np.zeros(shape=(trainSizeRangeLength, len(knnRange)))\n",
    "recColorMap = np.zeros(shape=(trainSizeRangeLength, len(knnRange)))\n",
    "\n",
    "for i in range(0, len(trainSizeRange)):\n",
    "    trainSize = trainSizeRange[i]\n",
    "    pca = sentiment.PCA(min(i, 50))\n",
    "    pca.fit(X_train[:trainSize])\n",
    "    Xtc_train = pca.transform(X_train[:trainSize])\n",
    "    Ytc_train = y_train[:trainSize]\n",
    "    Xtc_test = pca.transform(X_test)\n",
    "    print(\"Finished training PCA train_size = {}\".format(trainSize))\n",
    "\n",
    "    for j in range(0, knnRangeLength):\n",
    "        k = knnRange[j]\n",
    "        if (k <= trainSize):\n",
    "            clf = sentiment.KNNClassifier(k)\n",
    "            clf.fit(Xtc_train, Ytc_train)\n",
    "            preds = clf.predict(Xtc_test)\n",
    "            acc, prec, rec = getMetrics(preds, y_test)\n",
    "            f1 = f1score(prec,rec)\n",
    "            accColorMap[trainSizeRangeLength - i - 1, knnRangeLength - j - 1] = acc\n",
    "            precColorMap[trainSizeRangeLength - i - 1, knnRangeLength - j - 1] = prec\n",
    "            recColorMap[trainSizeRangeLength - i - 1, knnRangeLength - j - 1] = rec\n",
    "            f1ColorMap[trainSizeRangeLength - i - 1, knnRangeLength - j - 1] = f1\n",
    "            print(\"Finished k = {}, train_size = {}\".format(k, trainSize))\n",
    "        else:\n",
    "            accColorMap[trainSizeRangeLength - i - 1, knnRangeLength - j - 1] = 0\n",
    "            precColorMap[trainSizeRangeLength - i - 1, knnRangeLength - j - 1] = 0\n",
    "            recColorMap[trainSizeRangeLength - i - 1, knnRangeLength - j - 1] = 0\n",
    "            f1ColorMap[trainSizeRangeLength - i - 1, knnRangeLength - j - 1] = 0\n",
    "\n",
    "saveData(\"accColorMap\", accColorMap)\n",
    "saveData(\"precColorMap\", precColorMap)\n",
    "saveData(\"recColorMap\", recColorMap)\n",
    "saveData(\"f1ColorMap\", f1ColorMap)\n",
    "        \n",
    "fig, ax = plt.subplots()\n",
    "\n",
    "c = ax.pcolormesh(accColorMap, cmap='hot')\n",
    "ax.set_title('Train_size vs neighbors')\n",
    "# set the limits of the plot to the limits of the data\n",
    "ax.axis([0, accColorMap.shape[1], 0, accColorMap.shape[0]])\n",
    "fig.colorbar(c, ax=ax)\n",
    "\n",
    "fig2, ax2 = plt.subplots()\n",
    "\n",
    "c2 = ax2.pcolormesh(precColorMap, cmap='hot')\n",
    "ax2.set_title('pcolormesh')\n",
    "# set the limits of the plot to the limits of the data\n",
    "ax2.axis([0, precColorMap.shape[1], 0, precColorMap.shape[0]])\n",
    "fig2.colorbar(c2, ax=ax2)\n",
    "\n",
    "fig3, ax3 = plt.subplots()\n",
    "\n",
    "c3 = ax3.pcolormesh(recColorMap, cmap='hot')\n",
    "ax3.set_title('pcolormesh')\n",
    "# set the limits of the plot to the limits of the data\n",
    "ax3.axis([0, recColorMap.shape[1], 0, recColorMap.shape[0]])\n",
    "fig3.colorbar(c3, ax=ax3)\n",
    "\n",
    "fig4, ax4 = plt.subplots()\n",
    "\n",
    "c4 = ax4.pcolormesh(f1ColorMap, cmap='hot')\n",
    "ax4.set_title('pcolormesh')\n",
    "# set the limits of the plot to the limits of the data\n",
    "ax4.axis([0, f1ColorMap.shape[1], 0, f1ColorMap.shape[0]])\n",
    "fig4.colorbar(c4, ax=ax4)\n",
    "\n",
    "plt.show()"
   ]
  },
  {
   "cell_type": "code",
   "execution_count": null,
   "metadata": {},
   "outputs": [],
   "source": [
    "# fig, ax = plt.subplots()\n",
    "\n",
    "c = ax.pcolormesh(accColorMap, cmap='hot', vmin=0, vmax=1)\n",
    "ax.set_title('Train_size vs neighbors (accuracy)')\n",
    "# set the limits of the plot to the limits of the data\n",
    "ax.axis([0, accColorMap.shape[1], 0, accColorMap.shape[0]])\n",
    "ax.set_xlabel(\"Train size (1:125)\")\n",
    "ax.set_ylabel(\"K neighbors (1:50)\")\n",
    "fig.colorbar(c, ax=ax)\n",
    "\n",
    "fig2, ax2 = plt.subplots()\n",
    "\n",
    "c2 = ax2.pcolormesh(precColorMap, cmap='hot', vmin=0, vmax=1)\n",
    "ax2.set_title('Train_size vs neighbors (precision)')\n",
    "# set the limits of the plot to the limits of the data\n",
    "ax2.axis([0, precColorMap.shape[1], 0, precColorMap.shape[0]])\n",
    "ax2.set_xlabel(\"Train size (1:125)\")\n",
    "ax2.set_ylabel(\"K neighbors (1:50)\")\n",
    "fig2.colorbar(c2, ax=ax2)\n",
    "\n",
    "fig3, ax3 = plt.subplots()\n",
    "\n",
    "c3 = ax3.pcolormesh(recColorMap, cmap='hot', vmin=0, vmax=1)\n",
    "ax3.set_title('Train_size vs neighbors (recall)')\n",
    "# set the limits of the plot to the limits of the data\n",
    "ax3.axis([0, recColorMap.shape[1], 0, recColorMap.shape[0]])\n",
    "ax3.set_xlabel(\"Train size (1:125)\")\n",
    "ax3.set_ylabel(\"K neighbors (1:50)\")\n",
    "fig3.colorbar(c3, ax=ax3)\n",
    "\n",
    "fig3, ax3 = plt.subplots()\n",
    "\n",
    "c4 = ax4.pcolormesh(f1ColorMap, cmap='hot', vmin=0, vmax=1)\n",
    "ax4.set_title('Train_size vs neighbors (f1)')\n",
    "# set the limits of the plot to the limits of the data\n",
    "ax4.axis([0, f1ColorMap.shape[1], 0, f1ColorMap.shape[0]])\n",
    "ax4.set_xlabel(\"Train size (1:125)\")\n",
    "ax4.set_ylabel(\"K neighbors (1:50)\")\n",
    "fig4.colorbar(c4, ax=ax4)\n",
    "\n",
    "plt.show()"
   ]
  }
 ],
 "metadata": {
  "kernelspec": {
   "display_name": "Python 3",
   "language": "python",
   "name": "python3"
  },
  "language_info": {
   "codemirror_mode": {
    "name": "ipython",
    "version": 3
   },
   "file_extension": ".py",
   "mimetype": "text/x-python",
   "name": "python",
   "nbconvert_exporter": "python",
   "pygments_lexer": "ipython3",
   "version": "3.6.5"
  }
 },
 "nbformat": 4,
 "nbformat_minor": 2
}
